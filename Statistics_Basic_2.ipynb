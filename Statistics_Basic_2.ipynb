{
  "nbformat": 4,
  "nbformat_minor": 0,
  "metadata": {
    "colab": {
      "provenance": [],
      "authorship_tag": "ABX9TyNh1fBeaQXLb40l2JzWG2nk",
      "include_colab_link": true
    },
    "kernelspec": {
      "name": "python3",
      "display_name": "Python 3"
    },
    "language_info": {
      "name": "python"
    }
  },
  "cells": [
    {
      "cell_type": "markdown",
      "metadata": {
        "id": "view-in-github",
        "colab_type": "text"
      },
      "source": [
        "<a href=\"https://colab.research.google.com/github/DIVYA14797/Statistics/blob/main/Statistics_Basic_2.ipynb\" target=\"_parent\"><img src=\"https://colab.research.google.com/assets/colab-badge.svg\" alt=\"Open In Colab\"/></a>"
      ]
    },
    {
      "cell_type": "code",
      "execution_count": null,
      "metadata": {
        "id": "hsnA6yOmT97F"
      },
      "outputs": [],
      "source": []
    },
    {
      "cell_type": "markdown",
      "source": [
        "1. What are the three measures of central tendency ?"
      ],
      "metadata": {
        "id": "WezXVRuyUDCC"
      }
    },
    {
      "cell_type": "markdown",
      "source": [
        "The three main measures of central tendency are:\n",
        "\n",
        "1. Mean: This is calculated by summing up all the values in a dataset and then dividing by the number of values. It's often referred to as the average.\n",
        "2. Median: The median is the middle value in a dataset when it's ordered from least to greatest. If there's an even number of values, the median is the average of the two middle values.\n",
        "3. Mode: The mode is the value that appears most frequently in a dataset. It's possible for a dataset to have one mode, more than one mode (bimodal, trimodal, etc.), or no mode at all (if all values occur with equal frequency)."
      ],
      "metadata": {
        "id": "ZCcuhWFrUIdS"
      }
    },
    {
      "cell_type": "code",
      "source": [],
      "metadata": {
        "id": "3qN2rB12UVzk"
      },
      "execution_count": null,
      "outputs": []
    },
    {
      "cell_type": "markdown",
      "source": [
        "2. What are difference between the mean , median and mode ? How are they used to measure the central tendency of a dataset ?\n",
        "\n"
      ],
      "metadata": {
        "id": "-ObGiy0zUWKH"
      }
    },
    {
      "cell_type": "markdown",
      "source": [
        "The mean, median, and mode are all measures of central tendency used to summarize the typical or central value of a dataset. Here's how they differ and how they are used:\n",
        "\n",
        "1. Mean:\n",
        "* Definition: The mean is the sum of all the values in a dataset divided by the total number of values.\n",
        "* Calculation: Mean = (Sum of all values) / (Number of values)\n",
        "* Use: The mean is often used when the dataset follows a normal distribution or when the distribution is symmetric. It provides a balance point for the dataset and is sensitive to extreme values (outliers).\n",
        "2. Median:\n",
        "* Definition: The median is the middle value of a dataset when the values are arranged in ascending or descending order. If there is an even number of values, the median is the average of the two middle values.\n",
        "* Calculation: To find the median, arrange the dataset in order and find the middle value.\n",
        "* Use: The median is robust to outliers and is often used when the dataset contains extreme values or when the distribution is skewed. It represents the 50th percentile of the dataset and gives insight into the central value without being influenced by extreme values.\n",
        "3. Mode:\n",
        "* Definition: The mode is the value that appears most frequently in a dataset.\n",
        "* Calculation: Simply identify the value that occurs with the highest frequency.\n",
        "* Use: The mode is useful for categorical or discrete data and is often used in descriptive statistics to describe the most common value or category in a dataset. Unlike the mean and median, the mode can be used with nominal data (categories that have no inherent order)."
      ],
      "metadata": {
        "id": "1HKvS4L3UYQW"
      }
    },
    {
      "cell_type": "code",
      "source": [],
      "metadata": {
        "id": "hd2LQLuMUshe"
      },
      "execution_count": null,
      "outputs": []
    },
    {
      "cell_type": "markdown",
      "source": [
        "3. Measure the three measures of central tendency for the given height data : [178,177,176,177,178.2,178,175,179,180,175,178.9,176.2,177,172.5,178,176.5]\n",
        "\n"
      ],
      "metadata": {
        "id": "gBhm5RSSUs1e"
      }
    },
    {
      "cell_type": "markdown",
      "source": [
        "1. Mean:\n",
        "\n",
        "Sum of all values = 178 + 177 + 176 + 177 + 178.2 + 178 + 175 + 179 + 180 + 175 + 178.9 + 176.2 + 177 + 172.5 + 178 + 176.5 = 2697.3\n",
        "\n",
        "Number of values = 16\n",
        "\n",
        "Mean = Sum of all values / Number of values = 2697.3 / 16 ≈ 168.58125\n",
        "2. Median:\n",
        "\n",
        "First, let's arrange the data in ascending order:\n",
        "172.5, 175, 175, 176, 176, 176.2, 176.5, 177, 177, 177, 178, 178, 178, 178, 178.2, 178.9, 179, 180\n",
        "\n",
        "Since there are 16 values, the median will be the average of the 8th and 9th values.\n",
        "\n",
        "Median = (177 + 177) / 2 = 177\n",
        "3. Mode:\n",
        "\n",
        "The mode is the value that appears most frequently. In this dataset, the most frequent value is 178, which appears 4 times.\n",
        "\n",
        "So, for the given height data:\n",
        "\n",
        "* Mean ≈ 168.58\n",
        "* Median = 177\n",
        "* Mode = 178"
      ],
      "metadata": {
        "id": "LCFk6QxdUzva"
      }
    },
    {
      "cell_type": "code",
      "source": [],
      "metadata": {
        "id": "ydoafgkKVb4x"
      },
      "execution_count": null,
      "outputs": []
    },
    {
      "cell_type": "markdown",
      "source": [
        "4. Find the standard deviation for given data : [178,177,176,177,178.2,178,175,179,180,175,178.9,176.2,177,172.5,178,176.5]\n"
      ],
      "metadata": {
        "id": "0zlkDyQ_Vf_7"
      }
    },
    {
      "cell_type": "markdown",
      "source": [
        "1. Find the mean:\n",
        "\n",
        "Mean = (178 + 177 + 176 + 177 + 178.2 + 178 + 175 + 179 + 180 + 175 + 178.9 + 176.2 + 177 + 172.5 + 178 + 176.5) / 16 ≈ 177.23125\n",
        "2. Calculate the squared difference between each data point and the mean:\n",
        "\n",
        "Squared differences:\n",
        "\n",
        "(178 - 177.23125)^2 ≈ 0.595306\n",
        "\n",
        "(177 - 177.23125)^2 ≈ 0.053634\n",
        "\n",
        "(176 - 177.23125)^2 ≈ 1.515717\n",
        "\n",
        "...\n",
        "\n",
        "(176.5 - 177.23125)^2 ≈ 0.533306\n",
        "\n",
        "3. Find the mean of those squared differences:\n",
        "\n",
        "Mean of squared differences ≈ (0.595306 + 0.053634 + 1.515717 + ... + 0.533306) / 16 ≈ 0.784539\n",
        "\n",
        "4. Take the square root of the result from step 3:\n",
        "\n",
        "Standard deviation ≈ √0.784539 ≈ 0.885785\n",
        "\n",
        "So, the standard deviation for the given data is approximately 0.886."
      ],
      "metadata": {
        "id": "lsVxf7-UVrdC"
      }
    },
    {
      "cell_type": "code",
      "source": [],
      "metadata": {
        "id": "uO2aosFTWfBo"
      },
      "execution_count": null,
      "outputs": []
    },
    {
      "cell_type": "markdown",
      "source": [
        "5. How are measures of dispersion such as range , variance , and standard deviation used to describe the spread of a dataset ? Provide an example .\n",
        "\n"
      ],
      "metadata": {
        "id": "CriGICzCWgq-"
      }
    },
    {
      "cell_type": "markdown",
      "source": [
        "1. Range:\n",
        "* Definition: The range is the difference between the maximum and minimum values in a dataset.\n",
        "* Use: It provides a simple measure of spread, indicating the extent of variation in the dataset.\n",
        "* Example: Consider the following dataset representing the daily temperatures (in degrees Celsius) for a week: [20, 22, 19, 25, 18, 23, 21]. The range would be calculated as the difference between the maximum and minimum values: Range = 25 - 18 = 7 degrees Celsius.\n",
        "2. Variance:\n",
        "* Definition: The variance measures the average squared deviation of each data point from the mean of the dataset.\n",
        "* Use: It quantifies the spread of data points around the mean.\n",
        "* Example: Using the same dataset of daily temperatures, let's calculate the variance. First, find the mean: Mean = (20 + 22 + 19 + 25 + 18 + 23 + 21) / 7 = 21 degrees Celsius. Then, calculate the squared deviations from the mean for each value, sum them up, and divide by the number of values. The variance would be the average squared deviation from the mean.\n",
        "3. Standard Deviation:\n",
        "* Definition: The standard deviation is the square root of the variance. It measures the dispersion of data points from the mean in the same units as the original data.\n",
        "* Use: It provides a measure of how spread out the values in a dataset are.\n",
        "* Example: Continuing with the daily temperature dataset, after calculating the variance, take the square root of the result to find the standard deviation. This gives a measure of how much the temperatures deviate from the mean temperature on average."
      ],
      "metadata": {
        "id": "KGJEa__2Wlq3"
      }
    },
    {
      "cell_type": "code",
      "source": [],
      "metadata": {
        "id": "eshwrs7dXIX_"
      },
      "execution_count": null,
      "outputs": []
    },
    {
      "cell_type": "markdown",
      "source": [
        "6. What is a venn diagram ?"
      ],
      "metadata": {
        "id": "qJIw6FwYXI6e"
      }
    },
    {
      "cell_type": "markdown",
      "source": [
        "A Venn diagram is a graphical representation used to show all possible logical relations between a finite collection of different sets. It was introduced by the English mathematician John Venn in the 19th century.\n",
        "\n",
        "In a Venn diagram, sets are typically represented by circles or closed curves. The circles or curves overlap to illustrate the relationships between the sets. The overlapping areas represent elements that are common to the sets they intersect.\n",
        "\n",
        "Venn diagrams are widely used in various fields such as mathematics, logic, statistics, computer science, and even in everyday problem-solving. They are particularly useful for illustrating concepts related to set theory, logic, and relationships between different categories or groups of items."
      ],
      "metadata": {
        "id": "dFhG1yOgXduP"
      }
    },
    {
      "cell_type": "code",
      "source": [],
      "metadata": {
        "id": "M9VEvtSQXhXF"
      },
      "execution_count": null,
      "outputs": []
    },
    {
      "cell_type": "markdown",
      "source": [
        "7. For two given sets A = (2,3,4,5,6,7) & B =(0,2,6,8,10) . Find : (i) A ∩B  (ii)AUB\n",
        "\n"
      ],
      "metadata": {
        "id": "GoCwxMPqXiKv"
      }
    },
    {
      "cell_type": "markdown",
      "source": [
        "To find the intersection (A ∩ B) and the union (A ∪ B) of the given sets A and B:\n",
        "\n",
        "Set A = {2, 3, 4, 5, 6, 7}\n",
        "Set B = {0, 2, 6, 8, 10}\n",
        "\n",
        "(i) Intersection (A ∩ B):\n",
        "The intersection of two sets contains only the elements that are common to both sets.\n",
        "For A ∩ B, we look for elements that are present in both A and B.\n",
        "\n",
        "A ∩ B = {2, 6}\n",
        "\n",
        "(ii) Union (A ∪ B):\n",
        "The union of two sets contains all the distinct elements from both sets.\n",
        "For A ∪ B, we combine all the elements from both A and B, removing duplicates.\n",
        "\n",
        "A ∪ B = {0, 2, 3, 4, 5, 6, 7, 8, 10}\n",
        "\n",
        "So,\n",
        "(i) A ∩ B = {2, 6}\n",
        "(ii) A ∪ B = {0, 2, 3, 4, 5, 6, 7, 8, 10}\n",
        "\n",
        "\n"
      ],
      "metadata": {
        "id": "XJhRzWAJYH_I"
      }
    },
    {
      "cell_type": "code",
      "source": [],
      "metadata": {
        "id": "I4WUx6_hYOXt"
      },
      "execution_count": null,
      "outputs": []
    },
    {
      "cell_type": "markdown",
      "source": [
        "8. What do you understand about skewness in data ?"
      ],
      "metadata": {
        "id": "Ja9qtiQ2YPQd"
      }
    },
    {
      "cell_type": "markdown",
      "source": [
        "Skewness in data refers to the asymmetry or lack of symmetry in the distribution of values within a dataset. It indicates the degree to which the data deviates from a normal distribution.\n",
        "\n",
        "There are two main types of skewness:\n",
        "\n",
        "1. Positive skewness (right-skewed):\n",
        "* In a positively skewed distribution, the tail on the right side of the distribution is longer or fatter than the tail on the left side.\n",
        "* The majority of the data points are concentrated on the left side of the distribution, with a few large values pulling the mean to the right.\n",
        "* The mean is typically greater than the median in a positively skewed distribution.\n",
        "* Positive skewness often occurs in datasets with outliers or large positive values.\n",
        "2. Negative skewness (left-skewed):\n",
        "* In a negatively skewed distribution, the tail on the left side of the distribution is longer or fatter than the tail on the right side.\n",
        "* The majority of the data points are concentrated on the right side of the distribution, with a few small values pulling the mean to the left.\n",
        "* The mean is typically less than the median in a negatively skewed distribution.\n",
        "* Negative skewness often occurs in datasets with outliers or large negative values."
      ],
      "metadata": {
        "id": "hSveMyApYWmH"
      }
    },
    {
      "cell_type": "code",
      "source": [],
      "metadata": {
        "id": "g1VEBoEuY-n_"
      },
      "execution_count": null,
      "outputs": []
    },
    {
      "cell_type": "markdown",
      "source": [
        "9. If a data is right skewed then what will be the position of median with respect to mean ?"
      ],
      "metadata": {
        "id": "_gt-G-NvY_EY"
      }
    },
    {
      "cell_type": "markdown",
      "source": [
        "In a right-skewed distribution, the tail on the right side of the distribution is longer or fatter than the tail on the left side. This means that there are relatively few large values that pull the mean to the right. Consequently, in a right-skewed distribution:\n",
        "\n",
        "1. The mean will be greater than the median.\n",
        "2. The median will be closer to the left side of the distribution, where the majority of the data points are concentrated.\n",
        "3. The mean will be influenced more by the larger values in the right tail of the distribution, causing it to be pulled to the right."
      ],
      "metadata": {
        "id": "k3aQzPTvZuVC"
      }
    },
    {
      "cell_type": "code",
      "source": [],
      "metadata": {
        "id": "qNwpeuf1Z2xR"
      },
      "execution_count": null,
      "outputs": []
    },
    {
      "cell_type": "markdown",
      "source": [
        "10. Explain the difference between covariance and correlation . How are these measures used in statistical analysis ?"
      ],
      "metadata": {
        "id": "s2QxEVx2Z6Zg"
      }
    },
    {
      "cell_type": "markdown",
      "source": [
        "1. Covariance:\n",
        "* Covariance measures the degree to which two variables change together.  It indicates the direction of the linear relationship between two variables (whether they move in the same direction or opposite directions) and the strength of that relationship.\n",
        "* Covariance can take on any value, positive, negative, or zero. A positive covariance indicates a direct relationship (as one variable increases, the other tends to increase), a negative covariance indicates an inverse relationship (as one variable increases, the other tends to decrease), and a covariance of zero indicates no linear relationship.\n",
        "* The formula for covariance between two variables X and Y is:\n",
        "Cov(X, Y) = Σ[(X - μX) * (Y - μY)] / n\n",
        "\n",
        "where μX and μY are the means of variables X and Y, respectively, and n is the number of data points.\n",
        "\n",
        "Covariance alone doesn't provide a standardized measure of the strength of the relationship between variables, as it depends on the scale of the variables. Therefore, it can be challenging to interpret covariances, especially when comparing relationships between different pairs of variables.\n",
        "2. Correlation:\n",
        "* Correlation is a standardized measure of the linear relationship between two variables. It indicates both the direction and the strength of the relationship between variables.\n",
        "* Correlation coefficients range from -1 to 1. A correlation coefficient of +1 indicates a perfect positive linear relationship (as one variable increases, the other increases in direct proportion), a correlation coefficient of -1 indicates a perfect negative linear relationship (as one variable increases, the other decreases in direct proportion), and a correlation coefficient of 0 indicates no linear relationship.\n",
        "* The most commonly used correlation coefficient is the Pearson correlation coefficient, which is calculated using the following formula:\n",
        "Corr(X, Y) = Cov(X, Y) / (σX * σY)\n",
        "\n",
        "where Cov(X, Y) is the covariance between variables X and Y, and σX and σY are the standard deviations of variables X and Y, respectively.\n",
        "* Correlation provides a standardized measure that is easier to interpret and compare across different pairs of variables. It allows researchers to assess the strength and direction of relationships between variables while accounting for differences in the scale of the variables.\n",
        "\n",
        "In statistical analysis, covariance and correlation are used to:\n",
        "\n",
        "* Understand the relationship between two variables.\n",
        "* Assess the strength and direction of the relationship.\n",
        "* Identify patterns or associations in the data.\n",
        "* Guide decisions in various fields such as finance, economics, psychology, and biology.\n",
        "* Determine the suitability of variables for certain analyses or models.\n",
        "* Identify potential multicollinearity issues in regression analysi"
      ],
      "metadata": {
        "id": "5rqtqHvKZ_Ie"
      }
    },
    {
      "cell_type": "code",
      "source": [],
      "metadata": {
        "id": "g8sG0kI7bIBx"
      },
      "execution_count": null,
      "outputs": []
    },
    {
      "cell_type": "markdown",
      "source": [
        "11. What is the formula for calculating the sample mean ? Provide an example calculation for a dataset .\n",
        "\n"
      ],
      "metadata": {
        "id": "mazvjvMgbIfL"
      }
    },
    {
      "cell_type": "markdown",
      "source": [],
      "metadata": {
        "id": "d1560qx-bQqA"
      }
    },
    {
      "cell_type": "code",
      "source": [],
      "metadata": {
        "id": "-bkXaEEjbZr6"
      },
      "execution_count": null,
      "outputs": []
    },
    {
      "cell_type": "markdown",
      "source": [
        "12. For a normal distribution data what is the relationship between its measure of central tendency ?"
      ],
      "metadata": {
        "id": "cPt_zKKSbaFK"
      }
    },
    {
      "cell_type": "markdown",
      "source": [
        "\n",
        "For a normal distribution, there is a specific relationship between its measures of central tendency, namely the mean, median, and mode:\n",
        "\n",
        "1. Mean: In a normal distribution, the mean is located at the center of the distribution, and it coincides with the median and mode. This means that the mean, median, and mode all have the same value and are located at the peak of the distribution.\n",
        "2. Median: As mentioned, the median of a normal distribution is equal to its mean. It represents the middle value of the distribution when the data is arranged in ascending or descending order.\n",
        "3. Mode: The mode of a normal distribution is also equal to its mean and median. In a symmetric normal distribution, there is only one mode, and it is located at the center of the distribution.\n",
        "In summary, for a normal distribution:\n",
        "\n",
        "Mean = Median = Mode\n",
        "\n",
        "This relationship is a characteristic property of the normal distribution, which is often referred to as a \"bell curve\" due to its symmetric shape with a single peak at the center."
      ],
      "metadata": {
        "id": "_Opmo-eHbf7l"
      }
    },
    {
      "cell_type": "code",
      "source": [],
      "metadata": {
        "id": "QBZNpT0GbxYW"
      },
      "execution_count": null,
      "outputs": []
    },
    {
      "cell_type": "markdown",
      "source": [
        "13. How is covariance different from correlation ?"
      ],
      "metadata": {
        "id": "p95rT_77bxyH"
      }
    },
    {
      "cell_type": "markdown",
      "source": [
        "Covariance and correlation are both measures used to describe the relationship between two variables, but they differ in several key aspects:\n",
        "\n",
        "1. Scale:\n",
        "* Covariance is a measure of the extent to which two variables change together. It's calculated in the units of the variables being analyzed.\n",
        "* Correlation is a standardized measure of the linear relationship between two variables. It ranges from -1 to 1, with 1 indicating a perfect positive linear relationship, -1 indicating a perfect negative linear relationship, and 0 indicating no linear relationship.\n",
        "2. Interpretation:\n",
        "* Covariance can take on any value, positive, negative, or zero. A positive covariance indicates that the two variables tend to move in the same direction, a negative covariance indicates that they tend to move in opposite directions, and a covariance of zero indicates no linear relationship.\n",
        "* Correlation provides a more interpretable measure compared to covariance because it's standardized and ranges between -1 and 1. The sign of the correlation coefficient indicates the direction of the relationship, and the magnitude indicates the strength of the relationship.\n",
        "3. Independence of Scale:\n",
        "* Covariance is affected by the scale of the variables. Therefore, comparing covariances across different pairs of variables can be challenging.\n",
        "* Correlation is unaffected by changes in the scale of the variables. This makes it easier to compare correlations between different pairs of variables.\n",
        "4. Normalization:\n",
        "* Covariance does not provide a standardized measure, so it's difficult to assess the strength of the relationship between variables.\n",
        "* Correlation standardizes the measure, making it easier to interpret and compare relationships between variables."
      ],
      "metadata": {
        "id": "MnvnrApnb2VW"
      }
    },
    {
      "cell_type": "code",
      "source": [],
      "metadata": {
        "id": "-n3C_pr_cZal"
      },
      "execution_count": null,
      "outputs": []
    },
    {
      "cell_type": "markdown",
      "source": [
        "14. How do outliers affect measures of central tendency and dispersion ? Provide an example .\n",
        "\n"
      ],
      "metadata": {
        "id": "xJEUfS04cZx-"
      }
    },
    {
      "cell_type": "markdown",
      "source": [
        "Outliers can significantly impact measures of central tendency and dispersion, often skewing the results and providing a distorted representation of the data. Here's how outliers affect these measures and an example to illustrate:\n",
        "\n",
        "1. Measures of Central Tendency:\n",
        "* Mean: Outliers can heavily influence the mean, pulling it towards their extreme values. A single outlier that is much larger or smaller than the other values can greatly distort the mean.\n",
        "* Median: Outliers have minimal effect on the median because it is not sensitive to extreme values. The median is determined by the middle value in the dataset, so outliers do not influence its calculation as long as they do not change the order of the dataset significantly.\n",
        "* Mode: Outliers may or may not affect the mode, depending on their frequency. If an outlier is unique and occurs only once, it will not affect the mode. However, if an outlier appears multiple times, it can become the mode and influence the central tendency.\n",
        "2. Measures of Dispersion:\n",
        "* Range: Outliers can significantly affect the range, especially if they are extreme values. The range is calculated as the difference between the maximum and minimum values, so outliers can increase the range substantially.\n",
        "* Variance and Standard Deviation: Outliers can increase the variance and standard deviation, especially in datasets where the mean is used as the measure of central tendency. Since variance and standard deviation are based on deviations from the mean, outliers with large deviations from the mean can inflate these measures.\n",
        "* Interquartile Range (IQR): Outliers have minimal effect on the IQR because it is based on the spread of the middle 50% of the data, specifically the difference between the third quartile (Q3) and the first quartile (Q1). Outliers do not affect Q1 and Q3 directly, so they have minimal impact on the IQR.\n",
        "\n",
        "Example:\n",
        "\n",
        "Consider a dataset representing the salaries of employees in a company: [30000, 35000, 40000, 45000, 50000, 60000, 65000, 70000, 75000, 80000, 85000, 90000, 95000, 100000, 150000].\n",
        "\n",
        "If an outlier of 150,000 (a salary much larger than the others) is added to the dataset, it will significantly affect the measures of central tendency and dispersion:\n",
        "\n",
        "* Mean: The mean will increase substantially due to the influence of the outlier.\n",
        "* Median: The median will remain relatively unaffected because it represents the middle value, which does not change significantly with the addition of one outlier.\n",
        "* Mode: The mode will remain the same because the outlier occurs only once.\n",
        "* Range: The range will increase because the difference between the maximum and minimum values will be greater with the inclusion of the outlier.\n",
        "* Variance and Standard Deviation: Both measures will increase due to the increased variability introduced by the outlier.\n",
        "* Interquartile Range (IQR): The IQR will remain relatively unaffected because it is based on the spread of the middle 50% of the data, which does not change significantly with the addition of one outlier."
      ],
      "metadata": {
        "id": "iq4g8l90cgV5"
      }
    },
    {
      "cell_type": "code",
      "source": [],
      "metadata": {
        "id": "3ryDeZQRdQQq"
      },
      "execution_count": null,
      "outputs": []
    }
  ]
}