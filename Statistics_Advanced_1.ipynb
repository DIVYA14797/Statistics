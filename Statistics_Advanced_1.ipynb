{
  "nbformat": 4,
  "nbformat_minor": 0,
  "metadata": {
    "colab": {
      "provenance": [],
      "authorship_tag": "ABX9TyMNla8XauBscja/u+uO6RF+",
      "include_colab_link": true
    },
    "kernelspec": {
      "name": "python3",
      "display_name": "Python 3"
    },
    "language_info": {
      "name": "python"
    }
  },
  "cells": [
    {
      "cell_type": "markdown",
      "metadata": {
        "id": "view-in-github",
        "colab_type": "text"
      },
      "source": [
        "<a href=\"https://colab.research.google.com/github/DIVYA14797/Statistics/blob/main/Statistics_Advanced_1.ipynb\" target=\"_parent\"><img src=\"https://colab.research.google.com/assets/colab-badge.svg\" alt=\"Open In Colab\"/></a>"
      ]
    },
    {
      "cell_type": "code",
      "execution_count": null,
      "metadata": {
        "id": "AXUlHOlFU-Gp"
      },
      "outputs": [],
      "source": []
    },
    {
      "cell_type": "markdown",
      "source": [
        "1. What is the probability density function ?"
      ],
      "metadata": {
        "id": "p878rVlNVAHx"
      }
    },
    {
      "cell_type": "markdown",
      "source": [
        "A probability density function (PDF) is a function that describes the likelihood of a continuous random variable taking on a specific value within a given range. Unlike discrete probability distributions, where each possible value has a distinct probability, in a continuous distribution, individual values have infinitesimally small probabilities. Instead, the probability is described by the area under the curve of the PDF over a range of values.\n",
        "\n"
      ],
      "metadata": {
        "id": "8nLCfLWWVEUj"
      }
    },
    {
      "cell_type": "code",
      "source": [],
      "metadata": {
        "id": "mhxerbsfVH7K"
      },
      "execution_count": null,
      "outputs": []
    },
    {
      "cell_type": "markdown",
      "source": [
        "2. What are the types of probability distribution ?"
      ],
      "metadata": {
        "id": "QCtjreDGVIWv"
      }
    },
    {
      "cell_type": "markdown",
      "source": [
        "There are several types of probability distributions, each with its own characteristics and applications. Here are some common types:\n",
        "\n",
        "1. Discrete Probability Distributions: These distributions deal with discrete random variables, which take on a finite or countably infinite number of possible values. Examples include:\n",
        " * Bernoulli Distribution: Models a single trial with two possible outcomes (e.g., success or failure).\n",
        " * Binomial Distribution: Describes the number of successes in a fixed number of independent Bernoulli trials.\n",
        " * Poisson Distribution: Models the number of events occurring in a fixed interval of time or space, given a constant average rate.\n",
        "2. Continuous Probability Distributions: These distributions deal with continuous random variables, which can take on any value within a specified range. Examples include:\n",
        " * Normal (Gaussian) Distribution: Often referred to as the bell curve, it is characterized by its symmetric, bell-shaped curve.\n",
        " * Uniform Distribution: All values within a specified range are equally likely.\n",
        " * Exponential Distribution: Describes the time between events in a Poisson process, where events occur continuously and independently at a constant average rate.\n",
        "3. Mixed Probability Distributions: These distributions involve both discrete and continuous components. One example is the Mixed Gaussian Model, which combines discrete and continuous aspects to represent phenomena where both discrete events and continuous variations are observed.\n",
        "4. Multivariate Probability Distributions: These distributions involve multiple random variables. Examples include the Multinomial Distribution for discrete variables and the Multivariate Normal Distribution for continuous variables.\n",
        "5. Empirical Probability Distributions: These distributions are derived from observed data rather than from mathematical formulas. They are often used in statistical analysis and machine learning."
      ],
      "metadata": {
        "id": "fMe_wND1VNa2"
      }
    },
    {
      "cell_type": "code",
      "source": [],
      "metadata": {
        "id": "ZKB2vybBV22L"
      },
      "execution_count": null,
      "outputs": []
    },
    {
      "cell_type": "markdown",
      "source": [
        "3. Write a Python function to calculate the probability density function of a normal distribution with given mean and standard deviation at a given point .\n",
        "\n"
      ],
      "metadata": {
        "id": "saJBwAtVV3qO"
      }
    },
    {
      "cell_type": "code",
      "source": [
        "import math\n",
        "\n",
        "def normal_pdf(x, mean, std_dev):\n",
        "    \"\"\"\n",
        "    Calculate the probability density function (PDF) of a normal distribution\n",
        "    at a given point x.\n",
        "\n",
        "    Parameters:\n",
        "    x (float): The point at which to evaluate the PDF.\n",
        "    mean (float): The mean of the normal distribution.\n",
        "    std_dev (float): The standard deviation of the normal distribution.\n",
        "\n",
        "    Returns:\n",
        "    float: The value of the PDF at the given point x.\n",
        "    \"\"\"\n",
        "    exponent = -((x - mean) ** 2) / (2 * std_dev ** 2)\n",
        "    pdf = (1 / (std_dev * math.sqrt(2 * math.pi))) * math.exp(exponent)\n",
        "    return pdf\n",
        "\n",
        "# Example usage:\n",
        "mean = 0\n",
        "std_dev = 1\n",
        "x = 1\n",
        "pdf_value = normal_pdf(x, mean, std_dev)\n",
        "print(\"PDF at x =\", x, \":\", pdf_value)"
      ],
      "metadata": {
        "colab": {
          "base_uri": "https://localhost:8080/"
        },
        "id": "zgxKWoYSV-oO",
        "outputId": "46d1076e-9004-4a24-8485-845c26044d09"
      },
      "execution_count": null,
      "outputs": [
        {
          "output_type": "stream",
          "name": "stdout",
          "text": [
            "PDF at x = 1 : 0.24197072451914337\n"
          ]
        }
      ]
    },
    {
      "cell_type": "code",
      "source": [],
      "metadata": {
        "id": "ID_I2YTuWIrq"
      },
      "execution_count": null,
      "outputs": []
    },
    {
      "cell_type": "markdown",
      "source": [
        "4. What are the properties of Binomial distribution ? Give two examples of events where binomial distribution can be applied .\n"
      ],
      "metadata": {
        "id": "cWhR-dV5WJBT"
      }
    },
    {
      "cell_type": "markdown",
      "source": [
        "The binomial distribution has several properties:\n",
        "\n",
        "1. Fixed number of trials: The binomial distribution represents the number of successes in a fixed number of independent trials.\n",
        "2. Two possible outcomes: Each trial results in one of two outcomes, typically labeled as success (usually denoted by \"1\") or failure (usually denoted by \"0\").\n",
        "3. Independent trials: The trials are independent of each other, meaning the outcome of one trial does not affect the outcome of another.\n",
        "4. Constant probability of success: The probability of success (denoted by\n",
        "𝑝) is constant for each trial.\n",
        "5. Discrete distribution: The binomial distribution is discrete, as it deals with counting the number of successes.\n",
        "\n",
        "Two examples where the binomial distribution can be applied are:\n",
        "\n",
        "1. Coin Flips: Suppose you flip a fair coin 𝑛 times, and you want to know the probability of getting exactly 𝑘 heads. Each flip is independent, with a constant probability of success (getting heads, typically\n",
        "𝑝=0.5).\n",
        "\n",
        "2. Manufacturing Defects: Consider a manufacturing process where each item produced has a certain probability 𝑝 of being defective. If 𝑛 items are produced, the binomial distribution can be used to calculate the probability of obtaining a specific number of defective items in the batch.\n",
        "\n"
      ],
      "metadata": {
        "id": "EzwDGyBeWf4h"
      }
    },
    {
      "cell_type": "code",
      "source": [],
      "metadata": {
        "id": "9zlKLVXTXzqE"
      },
      "execution_count": null,
      "outputs": []
    },
    {
      "cell_type": "markdown",
      "source": [
        "5. Generate a random sample of size 1000 from a binomial distribution with probability of success 0.4 and plot a histogram of the result using matplotlib .\n",
        "\n"
      ],
      "metadata": {
        "id": "uZBjKLRwX1MS"
      }
    },
    {
      "cell_type": "code",
      "source": [
        "import numpy as np\n",
        "import matplotlib.pyplot as plt\n",
        "\n",
        "# Parameters\n",
        "n = 1000  # Sample size\n",
        "p = 0.4   # Probability of success\n",
        "\n",
        "# Generate random sample from binomial distribution\n",
        "random_sample = np.random.binomial(1, p, n)\n",
        "\n",
        "# Plot histogram\n",
        "plt.hist(random_sample, bins=2, color='skyblue', edgecolor='black')\n",
        "plt.title('Histogram of Binomial Distribution (n=1000, p=0.4)')\n",
        "plt.xlabel('Outcome')\n",
        "plt.ylabel('Frequency')\n",
        "plt.xticks([0, 1], ['Failure', 'Success'])\n",
        "plt.show()"
      ],
      "metadata": {
        "colab": {
          "base_uri": "https://localhost:8080/",
          "height": 472
        },
        "id": "t8jXZMYQX8UJ",
        "outputId": "720e8ffc-f7a1-407a-dc1b-28d6d67cf4b5"
      },
      "execution_count": null,
      "outputs": [
        {
          "output_type": "display_data",
          "data": {
            "text/plain": [
              "<Figure size 640x480 with 1 Axes>"
            ],
            "image/png": "[encoded data removed]"
          },
          "metadata": {}
        }
      ]
    },
    {
      "cell_type": "code",
      "source": [],
      "metadata": {
        "id": "D3iljNUfYEsV"
      },
      "execution_count": null,
      "outputs": []
    },
    {
      "cell_type": "markdown",
      "source": [
        "6. Write a python function to calculate the cumulative distribution function of a Poisson distribution with given mean at a given point ."
      ],
      "metadata": {
        "id": "hm-SUHRdYFBL"
      }
    },
    {
      "cell_type": "code",
      "source": [
        "import math\n",
        "\n",
        "def poisson_cdf(x, mean):\n",
        "    \"\"\"\n",
        "    Calculate the cumulative distribution function (CDF) of a Poisson distribution\n",
        "    at a given point x.\n",
        "\n",
        "    Parameters:\n",
        "    x (int): The point at which to evaluate the CDF.\n",
        "    mean (float): The mean of the Poisson distribution.\n",
        "\n",
        "    Returns:\n",
        "    float: The value of the CDF at the given point x.\n",
        "    \"\"\"\n",
        "    cdf = 0\n",
        "    for i in range(x + 1):\n",
        "        cdf += math.exp(-mean) * (mean ** i) / math.factorial(i)\n",
        "    return cdf\n",
        "\n",
        "# Example usage:\n",
        "mean = 3\n",
        "x = 2\n",
        "cdf_value = poisson_cdf(x, mean)\n",
        "print(\"CDF at x =\", x, \":\", cdf_value)"
      ],
      "metadata": {
        "colab": {
          "base_uri": "https://localhost:8080/"
        },
        "id": "_ft3J0XMYMYL",
        "outputId": "ca294402-4ee3-4118-b9c6-97d442234303"
      },
      "execution_count": null,
      "outputs": [
        {
          "output_type": "stream",
          "name": "stdout",
          "text": [
            "CDF at x = 2 : 0.42319008112684353\n"
          ]
        }
      ]
    },
    {
      "cell_type": "code",
      "source": [],
      "metadata": {
        "id": "u2N-wcf-YSGd"
      },
      "execution_count": null,
      "outputs": []
    },
    {
      "cell_type": "markdown",
      "source": [
        "7. How Binomial distribution different from Poisson distribution ?"
      ],
      "metadata": {
        "id": "ZEPPGgKmYTJ8"
      }
    },
    {
      "cell_type": "markdown",
      "source": [
        "The binomial distribution and the Poisson distribution are both probability distributions that deal with the number of occurrences of events. However, they have different characteristics and are used in different scenarios.\n",
        "\n",
        "1. Number of Trials:\n",
        "* Binomial Distribution: It represents the number of successes in a fixed number of independent trials. The number of trials, denoted as 𝑛, is fixed in advance.\n",
        "* Poisson Distribution: It represents the number of events occurring in a fixed interval of time or space. The number of trials is not fixed but instead represents a continuous process.\n",
        "2. Probability of Success:\n",
        "* Binomial Distribution: Each trial has two possible outcomes (success or failure) with a constant probability of success, denoted as 𝑝.\n",
        "* Poisson Distribution: It is characterized by a single parameter, the average rate of occurrence of events, denoted as 𝜆. There is no notion of success or failure; events occur randomly and independently at a constant average rate.\n",
        "3. Nature of Events:\n",
        "* Binomial Distribution: It is appropriate for situations where there are a fixed number of trials with a binary outcome (success or failure), such as coin flips, manufacturing defects, or the number of successes in a series of independent Bernoulli trials.\n",
        "* Poisson Distribution: It is suitable for modeling the number of rare events in a fixed interval of time or space, such as the number of phone calls received by a call center in an hour, the number of accidents at an intersection in a day, or the number of mutations in a DNA sequence.\n",
        "4. Assumptions:\n",
        "* Binomial Distribution: Assumes a fixed number of independent trials, each with the same probability of success.\n",
        "* Poisson Distribution: Assumes events occur randomly and independently at a constant average rate over time or space."
      ],
      "metadata": {
        "id": "KuF4td9cYYhl"
      }
    },
    {
      "cell_type": "code",
      "source": [],
      "metadata": {
        "id": "kQNY3_y-ZAp_"
      },
      "execution_count": null,
      "outputs": []
    },
    {
      "cell_type": "markdown",
      "source": [
        "8. Generate a random sample of a size 1000 from a Poisson distribution with mean 5 and calculate the sample mean and variance .\n",
        "\n"
      ],
      "metadata": {
        "id": "CNPWr9bEZBH8"
      }
    },
    {
      "cell_type": "code",
      "source": [
        "import numpy as np\n",
        "\n",
        "# Parameters\n",
        "mean = 5\n",
        "sample_size = 1000\n",
        "\n",
        "# Generate random sample from Poisson distribution\n",
        "random_sample = np.random.poisson(mean, sample_size)\n",
        "\n",
        "# Calculate sample mean and variance\n",
        "sample_mean = np.mean(random_sample)\n",
        "sample_variance = np.var(random_sample)\n",
        "\n",
        "print(\"Sample Mean:\", sample_mean)\n",
        "print(\"Sample Variance:\", sample_variance)"
      ],
      "metadata": {
        "colab": {
          "base_uri": "https://localhost:8080/"
        },
        "id": "CInuWS9wZJyl",
        "outputId": "c86dac17-1139-4673-c192-dad74a67c6ad"
      },
      "execution_count": null,
      "outputs": [
        {
          "output_type": "stream",
          "name": "stdout",
          "text": [
            "Sample Mean: 4.864\n",
            "Sample Variance: 4.653504000000001\n"
          ]
        }
      ]
    },
    {
      "cell_type": "code",
      "source": [],
      "metadata": {
        "id": "vVeZ73PYZP6p"
      },
      "execution_count": null,
      "outputs": []
    },
    {
      "cell_type": "markdown",
      "source": [
        "9."
      ],
      "metadata": {
        "id": "_FdfrZ0dZQPf"
      }
    },
    {
      "cell_type": "code",
      "source": [],
      "metadata": {
        "id": "vLtZxMcnZczd"
      },
      "execution_count": null,
      "outputs": []
    },
    {
      "cell_type": "markdown",
      "source": [
        "10. In normal distribution with respect to mean position , where does the least frequent data appear ?\n",
        "\n"
      ],
      "metadata": {
        "id": "96hv9giUZdSe"
      }
    },
    {
      "cell_type": "markdown",
      "source": [
        "In a normal distribution, also known as a Gaussian distribution, the least frequent data appear at the tails of the distribution, farthest away from the mean.\n",
        "\n",
        "The normal distribution is symmetric around its mean. As you move away from the mean in either direction, the frequency of data decreases gradually. However, the decrease in frequency is more rapid as you move further away from the mean. This means that the tails of the distribution contain the least frequent data points.\n",
        "\n",
        "In a standard normal distribution (mean = 0, standard deviation = 1), the least frequent data points are located at the extreme ends of the distribution, which are the tails. As you move away from the mean towards positive or negative infinity, the probability density decreases rapidly, indicating that data points in these regions are less likely to occur.\n",
        "\n",
        "Therefore, in a normal distribution, the least frequent data appear at the extremes, which are located in the tails of the distribution."
      ],
      "metadata": {
        "id": "0LhAjCFEZk_G"
      }
    },
    {
      "cell_type": "code",
      "source": [],
      "metadata": {
        "id": "wyFHql-mZpTQ"
      },
      "execution_count": null,
      "outputs": []
    }
  ]
}