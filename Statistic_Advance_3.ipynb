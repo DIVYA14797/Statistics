{
  "nbformat": 4,
  "nbformat_minor": 0,
  "metadata": {
    "colab": {
      "provenance": [],
      "authorship_tag": "ABX9TyPriwNRn1g4XqdEke6RVjP0",
      "include_colab_link": true
    },
    "kernelspec": {
      "name": "python3",
      "display_name": "Python 3"
    },
    "language_info": {
      "name": "python"
    }
  },
  "cells": [
    {
      "cell_type": "markdown",
      "metadata": {
        "id": "view-in-github",
        "colab_type": "text"
      },
      "source": [
        "<a href=\"https://colab.research.google.com/github/DIVYA14797/Statistics/blob/main/Statistic_Advance_3.ipynb\" target=\"_parent\"><img src=\"https://colab.research.google.com/assets/colab-badge.svg\" alt=\"Open In Colab\"/></a>"
      ]
    },
    {
      "cell_type": "code",
      "execution_count": null,
      "metadata": {
        "id": "wSv9_5-JKC4p"
      },
      "outputs": [],
      "source": []
    },
    {
      "cell_type": "markdown",
      "source": [
        "1. What is Estimation Statistics? Explain point estimate and interval estimate."
      ],
      "metadata": {
        "id": "A3XMdFGmKaR1"
      }
    },
    {
      "cell_type": "markdown",
      "source": [
        "Estimation statistics is a branch of statistics that deals with estimating population parameters based on sample data. It involves making educated guesses or estimates about characteristics of a population, such as the mean, variance, proportion, or other parameters, using information obtained from a sample.\n",
        "\n",
        "Point Estimate:\n",
        "* A point estimate is a single value that serves as the best guess or estimate of a population parameter. It's typically calculated from sample data and used to infer information about the population. For example, if you want to estimate the average height of all adults in a city, you might take a sample of 100 adults and calculate the average height of that sample. This average height would serve as the point estimate of the population mean height. However, it's important to note that point estimates are not always exact; they are subject to sampling variability, meaning they may differ from the true population parameter.\n",
        "\n",
        "Interval Estimate:\n",
        "* An interval estimate, also known as a confidence interval, provides a range of values within which the population parameter is likely to lie, along with a level of confidence associated with that range. Unlike a point estimate, which gives only a single value, an interval estimate provides a range of values that are likely to contain the true population parameter. For example, instead of just estimating the average height of adults in a city to be 170 cm (point estimate), you might provide an interval estimate of 165 cm to 175 cm with a 95% confidence level. This means that you are 95% confident that the true average height of adults in the city falls within this range.\n",
        "\n",
        "In summary, estimation statistics involves using sample data to estimate population parameters. Point estimates give a single value estimate of the parameter, while interval estimates provide a range of values along with a level of confidence."
      ],
      "metadata": {
        "id": "VM76lOAvKcKQ"
      }
    },
    {
      "cell_type": "code",
      "source": [],
      "metadata": {
        "id": "3gjvzAFKKvKU"
      },
      "execution_count": null,
      "outputs": []
    },
    {
      "cell_type": "markdown",
      "source": [
        "2. Write a Python function to estimate the population mean using a sample mean and standarddeviation."
      ],
      "metadata": {
        "id": "lIsrpXlhKvdf"
      }
    },
    {
      "cell_type": "code",
      "source": [
        "def estimate_population_mean(sample_mean, sample_std_dev, sample_size):\n",
        "    import math\n",
        "\n",
        "    # Calculate the standard error of the mean\n",
        "    standard_error = sample_std_dev / math.sqrt(sample_size)\n",
        "\n",
        "    # Calculate the margin of error (using a Z-score of 1.96 for a 95% confidence interval)\n",
        "    margin_of_error = 1.96 * standard_error\n",
        "\n",
        "    # Calculate the lower and upper bounds of the confidence interval\n",
        "    lower_bound = sample_mean - margin_of_error\n",
        "    upper_bound = sample_mean + margin_of_error\n",
        "\n",
        "    return lower_bound, upper_bound\n",
        "\n",
        "# Example usage:\n",
        "sample_mean = 50\n",
        "sample_std_dev = 10\n",
        "sample_size = 100\n",
        "\n",
        "lower_bound, upper_bound = estimate_population_mean(sample_mean, sample_std_dev, sample_size)\n",
        "print(\"Estimated population mean (95% confidence interval):\", lower_bound, \"to\", upper_bound)"
      ],
      "metadata": {
        "colab": {
          "base_uri": "https://localhost:8080/"
        },
        "id": "jR5chDX5K-Qb",
        "outputId": "1f86e8c4-7744-4848-bce9-dab4e460c085"
      },
      "execution_count": 1,
      "outputs": [
        {
          "output_type": "stream",
          "name": "stdout",
          "text": [
            "Estimated population mean (95% confidence interval): 48.04 to 51.96\n"
          ]
        }
      ]
    },
    {
      "cell_type": "code",
      "source": [],
      "metadata": {
        "id": "SgMJ_-1kLEG1"
      },
      "execution_count": null,
      "outputs": []
    },
    {
      "cell_type": "markdown",
      "source": [
        "3. What is Hypothesis testing? Why is it used? State the importance of Hypothesis testing."
      ],
      "metadata": {
        "id": "7z8OyRv0LFNY"
      }
    },
    {
      "cell_type": "markdown",
      "source": [
        "Hypothesis testing is a statistical method used to make inferences about a population parameter based on sample data. It involves formulating two competing hypotheses, the null hypothesis (H0) and the alternative hypothesis (H1), and using statistical tests to determine whether there is enough evidence to reject the null hypothesis in favor of the alternative hypothesis.\n",
        "\n",
        "The null hypothesis (H0) typically represents a default or status quo assumption, stating that there is no effect, no difference, or no relationship in the population. The alternative hypothesis (H1) contradicts the null hypothesis, suggesting that there is an effect, a difference, or a relationship in the population.\n",
        "\n",
        "Hypothesis testing is used for various purposes, including:\n",
        "\n",
        "1. Making decisions: Hypothesis tests provide a framework for making decisions based on evidence from sample data. By comparing the observed data to the null hypothesis, researchers can determine whether there is sufficient evidence to support a particular claim or hypothesis.\n",
        "\n",
        "2. Drawing conclusions: Hypothesis testing allows researchers to draw conclusions about population parameters based on sample statistics. It helps determine whether the observed results are likely to occur by chance or if they reflect a true difference or effect in the population.\n",
        "\n",
        "3. Testing theories and hypotheses: Hypothesis testing is essential for evaluating theories and hypotheses in scientific research. By subjecting hypotheses to rigorous testing, researchers can assess the validity of their theories and make progress in advancing knowledge.\n",
        "\n",
        "4. Controlling for randomness: In many cases, random variation in sample data can lead to misleading conclusions. Hypothesis testing helps control for randomness by providing a systematic approach to evaluating the significance of observed results.\n",
        "\n",
        "The importance of hypothesis testing lies in its role in scientific inquiry and decision-making. It provides a rigorous framework for evaluating hypotheses, drawing conclusions, and making informed decisions based on empirical evidence. Without hypothesis testing, researchers would lack a systematic method for assessing the validity of their claims and theories, leading to uncertainty and ambiguity in scientific findings."
      ],
      "metadata": {
        "id": "T11ZnxEiLbkB"
      }
    },
    {
      "cell_type": "code",
      "source": [],
      "metadata": {
        "id": "kUP8RNetLoTS"
      },
      "execution_count": null,
      "outputs": []
    },
    {
      "cell_type": "markdown",
      "source": [
        "4.  Create a hypothesis that states whether the average weight of male college students is greater than the average weight of female college students."
      ],
      "metadata": {
        "id": "vpcEYlZmLowH"
      }
    },
    {
      "cell_type": "markdown",
      "source": [
        "1. Null Hypothesis (H0):\n",
        "\n",
        "* The average weight of male college students is equal to or less than the average weight of female college students.\n",
        "\n",
        " $μ_m≤μ_f$\n",
        "\n",
        "2. Alternative Hypothesis (H1):\n",
        "\n",
        "* The average weight of male college students is greater than the average weight of female college students.\n",
        "\n",
        " $μ_m>μ_f$\n",
        "\n",
        "In this hypothesis , $μ_m$ represents the population mean weight of male college students, and  $μ_f$ represents the population mean weight of female college students. The null hypothesis states that there is no difference or that male students may even weigh less on average than female students. The alternative hypothesis asserts that male students weigh more on average than female students."
      ],
      "metadata": {
        "id": "n6hXUJ9uL626"
      }
    },
    {
      "cell_type": "code",
      "source": [],
      "metadata": {
        "id": "Dnzu2tRNNsCj"
      },
      "execution_count": null,
      "outputs": []
    },
    {
      "cell_type": "markdown",
      "source": [
        "5. Write a Python script to conduct a hypothesis test on the difference between two population means, given a sample from each population."
      ],
      "metadata": {
        "id": "i4nXuwMyNsbO"
      }
    },
    {
      "cell_type": "code",
      "source": [
        "from scipy import stats\n",
        "\n",
        "def hypothesis_test(sample1, sample2, alpha=0.05):\n",
        "    # Perform independent t-test\n",
        "    t_statistic, p_value = stats.ttest_ind(sample1, sample2)\n",
        "\n",
        "    # Print results\n",
        "    print(\"T-Statistic:\", t_statistic)\n",
        "    print(\"P-Value:\", p_value)\n",
        "\n",
        "    # Compare p-value with significance level alpha\n",
        "    if p_value < alpha:\n",
        "        print(\"Reject the null hypothesis (There is a significant difference between the means)\")\n",
        "    else:\n",
        "        print(\"Fail to reject the null hypothesis (There is no significant difference between the means)\")\n",
        "\n",
        "# Example usage:\n",
        "sample1 = [68, 72, 64, 70, 76]  # Sample from population 1 (e.g., male students)\n",
        "sample2 = [62, 66, 58, 64, 70]  # Sample from population 2 (e.g., female students)\n",
        "\n",
        "\n",
        "hypothesis_test(sample1, sample2)\n"
      ],
      "metadata": {
        "colab": {
          "base_uri": "https://localhost:8080/"
        },
        "id": "fZ3lH0idN5Fv",
        "outputId": "3d9e0421-22f7-426f-c60a-3260ca7088ed"
      },
      "execution_count": 2,
      "outputs": [
        {
          "output_type": "stream",
          "name": "stdout",
          "text": [
            "T-Statistic: 2.1213203435596424\n",
            "P-Value: 0.06668799999999996\n",
            "Fail to reject the null hypothesis (There is no significant difference between the means)\n"
          ]
        }
      ]
    },
    {
      "cell_type": "code",
      "source": [],
      "metadata": {
        "id": "LCLEIYnhN5e_"
      },
      "execution_count": null,
      "outputs": []
    },
    {
      "cell_type": "markdown",
      "source": [
        "6. What is a null and alternative hypothesis? Give some examples."
      ],
      "metadata": {
        "id": "JsS7YQjaOGmQ"
      }
    },
    {
      "cell_type": "markdown",
      "source": [
        "In statistical hypothesis testing, the null hypothesis (denoted as H0) and the alternative hypothesis (denoted as H1 or Ha) are two complementary statements used to make conclusions about a population parameter based on sample data.\n",
        "\n",
        "Null Hypothesis (H0):\n",
        "* The null hypothesis represents the default assumption or status quo. It typically states that there is no effect, no difference, or no relationship in the population. Researchers aim to test the null hypothesis to determine whether there is enough evidence to reject it in favor of the alternative hypothesis. If the evidence does not support rejecting the null hypothesis, researchers accept it as the default conclusion.\n",
        "\n",
        "Alternative Hypothesis (H1 or Ha):\n",
        "* The alternative hypothesis contradicts the null hypothesis and represents what the researcher is trying to find evidence for. It typically states that there is an effect, a difference, or a relationship in the population. Rejecting the null hypothesis in favor of the alternative hypothesis suggests that the observed data provide enough evidence to support the claim made in the alternative hypothesis.\n",
        "\n",
        "Here are some examples to illustrate the concept of null and alternative hypotheses:\n",
        "\n",
        "1. Example 1 (Means Comparison):\n",
        "* Null Hypothesis (H0): The average test scores of Group A and Group B are equal.\n",
        "* Alternative Hypothesis (H1): The average test score of Group A is greater than the average test score of Group B.\n",
        "\n",
        "2. Example 2 (Proportions Comparison):\n",
        "* Null Hypothesis (H0): The proportion of customers who prefer Product A is equal to the proportion who prefer Product B.\n",
        "* Alternative Hypothesis (H1): The proportion of customers who prefer Product A is different from the proportion who prefer Product B.\n",
        "\n",
        "3. Example 3 (Correlation Test):\n",
        "* Null Hypothesis (H0): There is no correlation between the amount of study time and exam scores.\n",
        "* Alternative Hypothesis (H1): There is a positive correlation between the amount of study time and exam scores.\n",
        "\n",
        "4. Example 4 (Goodness-of-Fit Test):\n",
        "* Null Hypothesis (H0): The observed distribution of blood types follows the expected distribution.\n",
        "* Alternative Hypothesis (H1): The observed distribution of blood types differs from the expected distribution.\n",
        "\n",
        "In each example, the null hypothesis represents the absence of an effect or difference, while the alternative hypothesis represents the presence of an effect or difference that the researcher is interested in testing."
      ],
      "metadata": {
        "id": "aar7X6cpOPRK"
      }
    },
    {
      "cell_type": "code",
      "source": [],
      "metadata": {
        "id": "MW7B7TBEOrNR"
      },
      "execution_count": null,
      "outputs": []
    },
    {
      "cell_type": "markdown",
      "source": [
        "7. Write down the steps involved in hypothesis testing."
      ],
      "metadata": {
        "id": "3EEBbKnQOrqR"
      }
    },
    {
      "cell_type": "markdown",
      "source": [
        "1. Formulate Hypotheses:\n",
        "* Define the null hypothesis (H0) and the alternative hypothesis (H1). The null hypothesis typically represents the default assumption or status quo, while the alternative hypothesis represents what the researcher is trying to find evidence for.\n",
        "\n",
        "2. Choose a Significance Level (α):\n",
        "* Determine the significance level (α), which represents the probability of rejecting the null hypothesis when it is actually true. Commonly used significance levels include 0.05 (5%) and 0.01 (1%).\n",
        "\n",
        "3. Select a Test Statistic:\n",
        "* Choose an appropriate test statistic based on the type of data and the hypothesis being tested. The test statistic is a numerical value calculated from sample data that is used to assess the strength of evidence against the null hypothesis.\n",
        "\n",
        "4. Collect Data and Perform the Test:\n",
        "* Collect sample data and calculate the test statistic based on the data. Perform the hypothesis test using the chosen test statistic and determine the p-value, which represents the probability of observing the test statistic or a more extreme value if the null hypothesis is true.\n",
        "\n",
        "5. Make a Decision:\n",
        "* Compare the p-value to the significance level (α). If the p-value is less than or equal to α, reject the null hypothesis in favor of the alternative hypothesis. If the p-value is greater than α, fail to reject the null hypothesis.\n",
        "\n",
        "6. Draw Conclusions:\n",
        "* Based on the decision made in step 5, draw conclusions about the population parameter being tested. If the null hypothesis is rejected, conclude that there is enough evidence to support the alternative hypothesis. If the null hypothesis is not rejected, conclude that there is not enough evidence to support the alternative hypothesis.\n",
        "\n",
        "7. Report Results:\n",
        "* Report the results of the hypothesis test, including the test statistic, the p-value, the decision made, and any conclusions drawn. Provide interpretations of the findings in the context of the research question or problem being investigated.\n",
        "\n",
        "These steps provide a structured framework for conducting hypothesis tests and making decisions based on sample data and statistical analysis. It's important to follow these steps carefully to ensure the validity and reliability of the hypothesis testing process."
      ],
      "metadata": {
        "id": "Wt5iU0STOPrl"
      }
    },
    {
      "cell_type": "code",
      "source": [],
      "metadata": {
        "id": "lfo-3dZmPPpL"
      },
      "execution_count": null,
      "outputs": []
    },
    {
      "cell_type": "markdown",
      "source": [
        "8. Define p-value and explain its significance in hypothesis testing."
      ],
      "metadata": {
        "id": "fODexMZyPQUY"
      }
    },
    {
      "cell_type": "markdown",
      "source": [
        "The p-value, or probability value, is a measure used in hypothesis testing to determine the strength of evidence against the null hypothesis. It represents the probability of observing a test statistic or a more extreme value if the null hypothesis is true. In other words, the p-value quantifies the likelihood of obtaining the observed results (or more extreme results) purely by chance, assuming that the null hypothesis is correct.\n",
        "\n",
        "Here's how the significance of the p-value works in hypothesis testing:\n",
        "\n",
        "1. Interpreting the p-value:\n",
        "\n",
        "* If the p-value is small (typically less than or equal to the chosen significance level, α), it suggests that the observed results are unlikely to have occurred by chance alone if the null hypothesis is true. In this case, there is strong evidence against the null hypothesis, and it may be rejected in favor of the alternative hypothesis.\n",
        "* If the p-value is large (greater than the chosen significance level, α), it suggests that the observed results are reasonably likely to have occurred by chance even if the null hypothesis is true. In this case, there is not enough evidence to reject the null hypothesis, and it may be retained.\n",
        "2. Relation to Significance Level (α):\n",
        "\n",
        "* The significance level (α) is chosen by the researcher before conducting the hypothesis test and represents the threshold for deciding whether to reject the null hypothesis. Commonly used significance levels include 0.05 (5%) and 0.01 (1%).\n",
        "* If the p-value is less than or equal to the significance level (α), the null hypothesis is rejected, indicating that the observed results are statistically significant.\n",
        "* If the p-value is greater than the significance level (α), the null hypothesis is not rejected, indicating that the observed results are not statistically significant.\n",
        "3. Decision Rule:\n",
        "\n",
        "* The decision about whether to reject or fail to reject the null hypothesis is based on a comparison of the p-value to the significance level (α). If the p-value is less than or equal to α, the null hypothesis is rejected. If the p-value is greater than α, the null hypothesis is retained.\n",
        "* It's important to note that the p-value itself does not indicate the probability that the null hypothesis is true or false. Instead, it provides information about the likelihood of obtaining the observed results under the assumption that the null hypothesis is true.\n",
        "\n",
        "In summary, the p-value plays a crucial role in hypothesis testing by quantifying the strength of evidence against the null hypothesis. It helps researchers make informed decisions about whether to accept or reject the null hypothesis based on the observed data and the chosen significance level."
      ],
      "metadata": {
        "id": "qSy30JVnPXIC"
      }
    },
    {
      "cell_type": "code",
      "source": [],
      "metadata": {
        "id": "zc0UiIRNP8s8"
      },
      "execution_count": null,
      "outputs": []
    },
    {
      "cell_type": "markdown",
      "source": [
        "9. Generate a Student's t-distribution plot using Python's matplotlib library, with the degrees of freedom parameter set to 10."
      ],
      "metadata": {
        "id": "OxguHoOkP9Z1"
      }
    },
    {
      "cell_type": "code",
      "source": [
        "import numpy as np\n",
        "import matplotlib.pyplot as plt\n",
        "from scipy.stats import t\n",
        "\n",
        "# Define the range of x values\n",
        "x = np.linspace(-4, 4, 1000)\n",
        "\n",
        "# Set the degrees of freedom parameter\n",
        "df = 10\n",
        "\n",
        "# Calculate the probability density function (PDF) for the t-distribution\n",
        "pdf = t.pdf(x, df)\n",
        "\n",
        "# Plot the t-distribution\n",
        "plt.figure(figsize=(8, 6))\n",
        "plt.plot(x, pdf, label='t-distribution (df=10)', color='blue')\n",
        "\n",
        "# Add labels and title\n",
        "plt.title(\"Student's t-Distribution (df=10)\")\n",
        "plt.xlabel('x')\n",
        "plt.ylabel('Probability Density')\n",
        "plt.legend()\n",
        "plt.grid(True)\n",
        "\n",
        "# Show plot\n",
        "plt.show()"
      ],
      "metadata": {
        "colab": {
          "base_uri": "https://localhost:8080/",
          "height": 564
        },
        "id": "wjUugxNGQCEU",
        "outputId": "e402452c-d436-42ed-8e75-e64be1ea00aa"
      },
      "execution_count": 3,
      "outputs": [
        {
          "output_type": "display_data",
          "data": {
            "text/plain": [
              "<Figure size 800x600 with 1 Axes>"
            ],
            "image/png": "[encoded data removed]"
          },
          "metadata": {}
        }
      ]
    },
    {
      "cell_type": "code",
      "source": [],
      "metadata": {
        "id": "OZqAQh5uQGxI"
      },
      "execution_count": null,
      "outputs": []
    },
    {
      "cell_type": "markdown",
      "source": [
        "10. Write a Python program to calculate the two-sample t-test for independent samples, given two random samples of equal size and a null hypothesis that the population means are equal."
      ],
      "metadata": {
        "id": "TV2EyJCNQHl6"
      }
    },
    {
      "cell_type": "code",
      "source": [
        "import numpy as np\n",
        "from scipy.stats import ttest_ind\n",
        "\n",
        "def two_sample_t_test(sample1, sample2):\n",
        "    # Calculate the t-statistic and p-value\n",
        "    t_statistic, p_value = ttest_ind(sample1, sample2)\n",
        "\n",
        "    return t_statistic, p_value\n",
        "\n",
        "# Generate two random samples with equal size\n",
        "np.random.seed(0)  # For reproducibility\n",
        "sample_size = 30\n",
        "sample1 = np.random.normal(loc=5, scale=2, size=sample_size)\n",
        "sample2 = np.random.normal(loc=6, scale=2, size=sample_size)\n",
        "\n",
        "# Perform two-sample t-test\n",
        "t_statistic, p_value = two_sample_t_test(sample1, sample2)\n",
        "\n",
        "# Print results\n",
        "print(\"Two-Sample t-Test Results:\")\n",
        "print(\"T-Statistic:\", t_statistic)\n",
        "print(\"P-Value:\", p_value)\n",
        "\n",
        "# Interpret results\n",
        "alpha = 0.05\n",
        "if p_value < alpha:\n",
        "    print(\"Reject the null hypothesis (There is a significant difference between the population means)\")\n",
        "else:\n",
        "    print(\"Fail to reject the null hypothesis (There is no significant difference between the population means)\")"
      ],
      "metadata": {
        "colab": {
          "base_uri": "https://localhost:8080/"
        },
        "id": "oEUlpe3qQVKK",
        "outputId": "ceaa1caa-2fb1-4c71-c123-05ed2d542bb7"
      },
      "execution_count": 4,
      "outputs": [
        {
          "output_type": "stream",
          "name": "stdout",
          "text": [
            "Two-Sample t-Test Results:\n",
            "T-Statistic: 0.889701920750517\n",
            "P-Value: 0.37730145339434673\n",
            "Fail to reject the null hypothesis (There is no significant difference between the population means)\n"
          ]
        }
      ]
    },
    {
      "cell_type": "code",
      "source": [],
      "metadata": {
        "id": "sP3WxhzcQcoP"
      },
      "execution_count": null,
      "outputs": []
    },
    {
      "cell_type": "markdown",
      "source": [
        "11. What is Student’s t distribution? When to use the t-Distribution."
      ],
      "metadata": {
        "id": "3sShRqBRQdFR"
      }
    },
    {
      "cell_type": "markdown",
      "source": [
        "Student's t-distribution, often referred to simply as the t-distribution, is a probability distribution that arises from the estimation of the mean of a normally distributed population when the sample size is small and/or the population standard deviation is unknown. It is named after William Sealy Gosset, who first introduced it under the pseudonym \"Student.\"\n",
        "\n",
        "The t-distribution is similar in shape to the standard normal distribution (i.e., the z-distribution), but it has heavier tails. As the sample size increases, the t-distribution converges to the standard normal distribution. The shape of the t-distribution depends on the degrees of freedom (df), which is related to the sample size. As the degrees of freedom increase, the t-distribution approaches the standard normal distribution.\n",
        "\n",
        "The t-distribution is commonly used in hypothesis testing and confidence interval estimation when:\n",
        "\n",
        "1. Population standard deviation is unknown: When the population standard deviation is unknown and the sample size is small, the sample standard deviation is used to estimate the population standard deviation. In this case, the t-distribution is used instead of the standard normal distribution to account for the additional uncertainty introduced by estimating the population standard deviation from the sample.\n",
        "\n",
        "2. Sample size is small: When the sample size is small (typically less than 30), the t-distribution is more appropriate for estimating population parameters and making inferences about the population mean. As the sample size increases, the t-distribution approaches the standard normal distribution, and there is less need to use the t-distribution.\n",
        "\n",
        "3. Constructing confidence intervals: When constructing confidence intervals for the population mean, especially when the population standard deviation is unknown and the sample size is small, the t-distribution is used to account for the uncertainty in the estimate of the population standard deviation.\n",
        "\n",
        "Overall, the t-distribution is a fundamental tool in statistical inference, particularly in situations where the sample size is small and/or the population standard deviation is unknown. It provides a more accurate representation of the sampling distribution of the sample mean compared to the standard normal distribution under these conditions."
      ],
      "metadata": {
        "id": "KMWGE5UZQly2"
      }
    },
    {
      "cell_type": "code",
      "source": [],
      "metadata": {
        "id": "Y7FT8YSwQyqM"
      },
      "execution_count": null,
      "outputs": []
    },
    {
      "cell_type": "markdown",
      "source": [
        "12. What is t-statistic? State the formula for t-statistic."
      ],
      "metadata": {
        "id": "E2jS9yy8Qy-0"
      }
    },
    {
      "cell_type": "markdown",
      "source": [
        "The t-statistic is a measure used in hypothesis testing to assess whether there is a significant difference between the means of two groups or to determine if a sample mean is significantly different from a known population mean. It quantifies the difference between sample means relative to the variability within the samples.\n",
        "\n",
        "The formula for the t-statistic depends on the context in which it is used. Here are the two common scenarios:\n",
        "\n",
        "1. One-Sample t-Test:\n",
        "\n",
        "When conducting a one-sample t-test to compare the mean of a single sample to a known population mean, the formula for the t-statistic is:\n",
        "\n",
        "$$\n",
        "t = \\frac{\\bar{x} - \\mu}{\\frac{s}{\\sqrt{n}}}\n",
        "$$\n",
        "\n",
        "where:\n",
        "* $\\bar{x}$ is the sample mean,\n",
        "* $μ$ is the population mean,\n",
        "* $s$ is the sample standard deviation, and\n",
        "* $n$ is the sample size.\n",
        "\n",
        "2. Two-Sample t-Test for Independent Samples:\n",
        "\n",
        "When conducting a two-sample t-test to compare the means of two independent samples, the formula for the t-statistic is:\n",
        "$$\n",
        "t = \\frac{\\bar{x}_1 - \\bar{x}_2}{\\sqrt{\\frac{s_1^2}{n_1} + \\frac{s_2^2}{n_2}}}\n",
        "$$\n",
        "\n",
        "where:\n",
        "* $\\bar{x}_1 and \\bar{x}_2 $ are the sample means of the two groups,\n",
        "* $s_1 and s_2$ are the sample standard deviations of the two groups,\n",
        "* $n_1 and n_2$ are the sample sizes of the two groups.\n",
        "\n",
        "In both cases, the t-statistic measures the difference between the sample means relative to the variability within the samples. A larger absolute value of the t-statistic indicates a larger difference between the sample means, while a smaller absolute value indicates a smaller difference. The t-statistic is then compared to critical values from the t-distribution to determine whether the observed difference is statistically significant."
      ],
      "metadata": {
        "id": "S9nRZhJhRNfX"
      }
    },
    {
      "cell_type": "code",
      "source": [],
      "metadata": {
        "id": "B5r-nom2Tel5"
      },
      "execution_count": null,
      "outputs": []
    },
    {
      "cell_type": "markdown",
      "source": [
        "13.  A coffee shop owner wants to estimate the average daily revenue for their shop. They take a random sample of 50 days and find the sample mean revenue to be $500 with a standard deviation of $50. Estimate the population mean revenue with a 95% confidence interval."
      ],
      "metadata": {
        "id": "o9fkkJNlTe9M"
      }
    },
    {
      "cell_type": "markdown",
      "source": [
        "To estimate the population mean revenue with a 95% confidence interval, we use the formula for the confidence interval of the mean when the sample size is large (\\(n > 30\\)). The formula for the confidence interval is:\n",
        "\n",
        "$$\n",
        "\\text{CI} = \\bar{x} \\pm z_{\\alpha/2} \\cdot \\frac{s}{\\sqrt{n}}\n",
        "$$\n",
        "\n",
        "where:\n",
        "- \\(\\bar{x}\\) is the sample mean,\n",
        "- \\(z_{\\alpha/2}\\) is the critical value from the standard normal distribution for a 95% confidence level,\n",
        "- \\(s\\) is the sample standard deviation, and\n",
        "- \\(n\\) is the sample size.\n",
        "\n",
        "Given:\n",
        "- Sample mean (\\(\\bar{x}\\)) = $500\n",
        "- Sample standard deviation (\\(s\\)) = $50\n",
        "- Sample size (\\(n\\)) = 50\n",
        "\n",
        "For a 95% confidence level, \\(z_{\\alpha/2}\\) is approximately 1.96.\n",
        "\n",
        "Now, we can calculate the margin of error (ME):\n",
        "\n",
        "$$\n",
        "\\text{ME} = z_{\\alpha/2} \\cdot \\frac{s}{\\sqrt{n}} = 1.96 \\cdot \\frac{50}{\\sqrt{50}}\n",
        "$$\n",
        "\n",
        "$$\n",
        "\\text{ME} = 1.96 \\cdot \\frac{50}{7.071}\n",
        "$$\n",
        "\n",
        "$$\n",
        "\\text{ME} = 1.96 \\cdot 7.071\n",
        "$$\n",
        "\n",
        "$$\n",
        "\\text{ME} \\approx 13.86\n",
        "$$\n",
        "\n",
        "Therefore, the 95% confidence interval is:\n",
        "\n",
        "$$\n",
        "\\text{CI} = \\bar{x} \\pm \\text{ME}\n",
        "$$\n",
        "\n",
        "$$\n",
        "\\text{CI} = 500 \\pm 13.86\n",
        "$$\n",
        "\n",
        "$$\n",
        "\\text{CI} = (500 - 13.86, 500 + 13.86)\n",
        "$$\n",
        "\n",
        "$$\n",
        "\\text{CI} = (486.14, 513.86)\n",
        "$$\n",
        "\n",
        "So, the 95% confidence interval for the population mean revenue is approximately $486.14 to $513.86."
      ],
      "metadata": {
        "id": "J6IEsqnWUJ3m"
      }
    },
    {
      "cell_type": "code",
      "source": [],
      "metadata": {
        "id": "oO-2c1JKUfk9"
      },
      "execution_count": null,
      "outputs": []
    },
    {
      "cell_type": "markdown",
      "source": [
        "14. A researcher hypothesizes that a new drug will decrease blood pressure by 10 mmHg. They conduct a clinical trial with 100 patients and find that the sample mean decrease in blood pressure is 8 mmHg with a standard deviation of 3 mmHg. Test the hypothesis with a significance level of 0.05."
      ],
      "metadata": {
        "id": "toUgoI_GUgMh"
      }
    },
    {
      "cell_type": "markdown",
      "source": [
        "To test the hypothesis that the new drug will decrease blood pressure by 10 mmHg, we will perform a one-sample t-test. The null hypothesis (H0) and alternative hypothesis (H1) can be stated as follows:\n",
        "\n",
        "* Null Hypothesis (H0): The mean decrease in blood pressure is 10 mmHg $(μ=10)$ .\n",
        "* Alternative Hypothesis (H1): The mean decrease in blood pressure is not 10 mmHg $(μ ǂ  10)$\n",
        "\n",
        "Given:\n",
        "* Sample mean $\\bar{(x)}$ = 8 mmHg\n",
        "* Population mean (𝜇) = 10 mmHg (hypothesized value)\n",
        "* Sample standard deviation (𝑠) = 3 mmHg\n",
        "* Sample size (𝑛) = 100\n",
        "* Significance level (𝛼) = 0.05\n",
        "\n",
        "We will use the one-sample t-test formula to calculate the t-statistic:\n",
        "$$\n",
        "t = \\frac{\\bar{x} - \\mu}{\\frac{s}{\\sqrt{n}}}\n",
        "$$\n",
        "\n",
        "Next, we compare the t-statistic with the critical t-value from the t-distribution with 𝑛−1 degrees of freedom. For a two-tailed test at α=0.05, the critical value can be found using a t-table or a statistical software ."
      ],
      "metadata": {
        "id": "UT2hOONrU7jn"
      }
    },
    {
      "cell_type": "code",
      "source": [
        "import scipy.stats as stats\n",
        "\n",
        "# Given data\n",
        "sample_mean = 8\n",
        "hypothesized_mean = 10\n",
        "sample_std = 3\n",
        "sample_size = 100\n",
        "alpha = 0.05\n",
        "\n",
        "# Calculate the t-statistic\n",
        "t_statistic = (sample_mean - hypothesized_mean) / (sample_std / (sample_size ** 0.5))\n",
        "\n",
        "# Degrees of freedom\n",
        "df = sample_size - 1\n",
        "\n",
        "# Calculate the p-value\n",
        "p_value = 2 * (1 - stats.t.cdf(abs(t_statistic), df))\n",
        "\n",
        "# Calculate the critical t-value for two-tailed test\n",
        "t_critical = stats.t.ppf(1 - alpha/2, df)\n",
        "\n",
        "print(f\"T-Statistic: {t_statistic}\")\n",
        "print(f\"P-Value: {p_value}\")\n",
        "print(f\"Critical T-Value: {t_critical}\")\n",
        "\n",
        "# Conclusion\n",
        "if abs(t_statistic) > t_critical:\n",
        "    print(\"Reject the null hypothesis (There is a significant difference from 10 mmHg)\")\n",
        "else:\n",
        "    print(\"Fail to reject the null hypothesis (There is no significant difference from 10 mmHg)\")"
      ],
      "metadata": {
        "colab": {
          "base_uri": "https://localhost:8080/"
        },
        "id": "8j1958CfX_ih",
        "outputId": "9c3f5f27-470a-4e5b-d857-7307f8403e87"
      },
      "execution_count": 5,
      "outputs": [
        {
          "output_type": "stream",
          "name": "stdout",
          "text": [
            "T-Statistic: -6.666666666666667\n",
            "P-Value: 1.5012289189542116e-09\n",
            "Critical T-Value: 1.9842169515086827\n",
            "Reject the null hypothesis (There is a significant difference from 10 mmHg)\n"
          ]
        }
      ]
    },
    {
      "cell_type": "code",
      "source": [],
      "metadata": {
        "id": "sR4aYIuWYBnu"
      },
      "execution_count": null,
      "outputs": []
    },
    {
      "cell_type": "markdown",
      "source": [
        "15. An electronics company produces a certain type of product with a mean weight of 5 pounds and a\n",
        "standard deviation of 0.5 pounds. A random sample of 25 products is taken, and the sample mean weight\n",
        "is found to be 4.8 pounds. Test the hypothesis that the true mean weight of the products is less than 5\n",
        "pounds with a significance level of 0.01."
      ],
      "metadata": {
        "id": "x9CPOEEOYB6i"
      }
    },
    {
      "cell_type": "code",
      "source": [
        "import scipy.stats as stats\n",
        "\n",
        "# Given data\n",
        "population_mean = 5\n",
        "sample_mean = 4.8\n",
        "population_std = 0.5\n",
        "sample_size = 25\n",
        "alpha = 0.01\n",
        "\n",
        "# Calculate the z-statistic\n",
        "z_statistic = (sample_mean - population_mean) / (population_std / (sample_size ** 0.5))\n",
        "\n",
        "# Calculate the critical z-value for a one-tailed test\n",
        "z_critical = stats.norm.ppf(alpha)\n",
        "\n",
        "# Calculate the p-value\n",
        "p_value = stats.norm.cdf(z_statistic)\n",
        "\n",
        "print(f\"Z-Statistic: {z_statistic}\")\n",
        "print(f\"Critical Z-Value: {z_critical}\")\n",
        "print(f\"P-Value: {p_value}\")\n",
        "\n",
        "# Conclusion\n",
        "if z_statistic < z_critical:\n",
        "    print(\"Reject the null hypothesis (The true mean weight of the products is less than 5 pounds)\")\n",
        "else:\n",
        "    print(\"Fail to reject the null hypothesis (There is no evidence that the true mean weight of the products is less than 5 pounds)\")"
      ],
      "metadata": {
        "colab": {
          "base_uri": "https://localhost:8080/"
        },
        "id": "4wVQfMQ4YUGH",
        "outputId": "722eea60-01b9-49da-c464-200da0f8bcb2"
      },
      "execution_count": 6,
      "outputs": [
        {
          "output_type": "stream",
          "name": "stdout",
          "text": [
            "Z-Statistic: -2.0000000000000018\n",
            "Critical Z-Value: -2.3263478740408408\n",
            "P-Value: 0.0227501319481791\n",
            "Fail to reject the null hypothesis (There is no evidence that the true mean weight of the products is less than 5 pounds)\n"
          ]
        }
      ]
    },
    {
      "cell_type": "code",
      "source": [],
      "metadata": {
        "id": "zRrNvSUBYXSr"
      },
      "execution_count": null,
      "outputs": []
    },
    {
      "cell_type": "markdown",
      "source": [
        "16. Two groups of students are given different study materials to prepare for a test. The first group (n1 =\n",
        "30) has a mean score of 80 with a standard deviation of 10, and the second group (n2 = 40) has a mean\n",
        "score of 75 with a standard deviation of 8. Test the hypothesis that the population means for the two\n",
        "groups are equal with a significance level of 0.01."
      ],
      "metadata": {
        "id": "o8V9bzoTYXjg"
      }
    },
    {
      "cell_type": "code",
      "source": [
        "import scipy.stats as stats\n",
        "\n",
        "# Given data\n",
        "n1 = 30\n",
        "mean1 = 80\n",
        "std1 = 10\n",
        "\n",
        "n2 = 40\n",
        "mean2 = 75\n",
        "std2 = 8\n",
        "\n",
        "alpha = 0.01\n",
        "\n",
        "# Calculate the t-statistic\n",
        "t_statistic = (mean1 - mean2) / ( (std1**2/n1 + std2**2/n2) ** 0.5 )\n",
        "\n",
        "# Calculate the degrees of freedom\n",
        "df = ( (std1**2/n1 + std2**2/n2) ** 2 ) / ( ((std1**2/n1) ** 2 / (n1 - 1)) + ((std2**2/n2) ** 2 / (n2 - 1)) )\n",
        "\n",
        "# Calculate the critical t-value for a two-tailed test\n",
        "t_critical = stats.t.ppf(1 - alpha/2, df)\n",
        "\n",
        "# Calculate the p-value\n",
        "p_value = 2 * (1 - stats.t.cdf(abs(t_statistic), df))\n",
        "\n",
        "print(f\"T-Statistic: {t_statistic}\")\n",
        "print(f\"Degrees of Freedom: {df}\")\n",
        "print(f\"Critical T-Value: {t_critical}\")\n",
        "print(f\"P-Value: {p_value}\")\n",
        "\n",
        "# Conclusion\n",
        "if abs(t_statistic) > t_critical:\n",
        "    print(\"Reject the null hypothesis (The population means for the two groups are not equal)\")\n",
        "else:\n",
        "    print(\"Fail to reject the null hypothesis (There is no significant difference between the population means of the two groups)\")"
      ],
      "metadata": {
        "colab": {
          "base_uri": "https://localhost:8080/"
        },
        "id": "fIlLAVNQY0No",
        "outputId": "36948814-45ef-4b98-f0af-86ad17736ea8"
      },
      "execution_count": 7,
      "outputs": [
        {
          "output_type": "stream",
          "name": "stdout",
          "text": [
            "T-Statistic: 2.2511258444537408\n",
            "Degrees of Freedom: 54.230639907533885\n",
            "Critical T-Value: 2.6695708569864056\n",
            "P-Value: 0.02845213338800101\n",
            "Fail to reject the null hypothesis (There is no significant difference between the population means of the two groups)\n"
          ]
        }
      ]
    },
    {
      "cell_type": "code",
      "source": [],
      "metadata": {
        "id": "mOkC0U_-Y2I2"
      },
      "execution_count": null,
      "outputs": []
    },
    {
      "cell_type": "markdown",
      "source": [
        "17. A marketing company wants to estimate the average number of ads watched by viewers during a TV\n",
        "program. They take a random sample of 50 viewers and find that the sample mean is 4 with a standard\n",
        "deviation of 1.5. Estimate the population mean with a 99% confidence interval."
      ],
      "metadata": {
        "id": "wGk2g5eIY2fp"
      }
    },
    {
      "cell_type": "markdown",
      "source": [
        "To estimate the population mean number of ads watched by viewers during a TV program with a 99% confidence interval, we use the formula for the confidence interval of the mean when the sample size is relatively large (\\(n > 30\\)). The formula for the confidence interval is:\n",
        "\n",
        "$$\n",
        "\\text{CI} = \\bar{x} \\pm z_{\\alpha/2} \\cdot \\frac{s}{\\sqrt{n}}\n",
        "$$\n",
        "\n",
        "where:\n",
        "- \\(\\bar{x}\\) is the sample mean,\n",
        "- \\(z_{\\alpha/2}\\) is the critical value from the standard normal distribution for a 99% confidence level,\n",
        "- \\(s\\) is the sample standard deviation, and\n",
        "- \\(n\\) is the sample size.\n",
        "\n",
        "Given:\n",
        "- Sample mean (\\(\\bar{x}\\)) = 4\n",
        "- Sample standard deviation (\\(s\\)) = 1.5\n",
        "- Sample size (\\(n\\)) = 50\n",
        "\n",
        "For a 99% confidence level, \\(z_{\\alpha/2}\\) is approximately 2.576.\n",
        "\n",
        "Now, we can calculate the margin of error (ME):\n",
        "\n",
        "$$\n",
        "\\text{ME} = z_{\\alpha/2} \\cdot \\frac{s}{\\sqrt{n}} = 2.576 \\cdot \\frac{1.5}{\\sqrt{50}}\n",
        "$$\n",
        "\n",
        "$$\n",
        "\\text{ME} = 2.576 \\cdot \\frac{1.5}{7.071}\n",
        "$$\n",
        "\n",
        "$$\n",
        "\\text{ME} = 2.576 \\cdot 0.212\n",
        "$$\n",
        "\n",
        "$$\n",
        "\\text{ME} \\approx 0.546\n",
        "$$\n",
        "\n",
        "Therefore, the 99% confidence interval is:\n",
        "\n",
        "$$\n",
        "\\text{CI} = \\bar{x} \\pm \\text{ME}\n",
        "$$\n",
        "\n",
        "$$\n",
        "\\text{CI} = 4 \\pm 0.546\n",
        "$$\n",
        "\n",
        "$$\n",
        "\\text{CI} = (4 - 0.546, 4 + 0.546)\n",
        "$$\n",
        "\n",
        "$$\n",
        "\\text{CI} = (3.454, 4.546)\n",
        "$$\n",
        "\n",
        "So, the 99% confidence interval for the population mean number of ads watched by viewers is approximately 3.454 to 4.546."
      ],
      "metadata": {
        "id": "6GNvaWp-ZLEr"
      }
    },
    {
      "cell_type": "code",
      "source": [],
      "metadata": {
        "id": "vzC5S9mcZUwH"
      },
      "execution_count": null,
      "outputs": []
    }
  ]
}